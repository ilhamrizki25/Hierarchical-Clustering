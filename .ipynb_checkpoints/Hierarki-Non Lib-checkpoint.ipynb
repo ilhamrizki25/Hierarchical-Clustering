{
 "cells": [
  {
   "cell_type": "code",
   "execution_count": 1,
   "metadata": {
    "scrolled": true
   },
   "outputs": [],
   "source": [
    "# Importing the libraries\n",
    "import numpy as np\n",
    "import matplotlib.pyplot as plt\n",
    "import pandas as pd\n",
    "# Importing the dataset\n",
    "dataset = pd.read_csv('Mall_Customers.csv')\n",
    "X = dataset.iloc[:, [3, 4]].values"
   ]
  },
  {
   "cell_type": "code",
   "execution_count": 2,
   "metadata": {},
   "outputs": [],
   "source": [
    "from sklearn.preprocessing import MinMaxScaler\n",
    "MM = MinMaxScaler()\n",
    "A = MM.fit_transform(X[:,[0]])\n",
    "B = MM.fit_transform(X[:,[1]])\n",
    "#Nomralisasi MinMax"
   ]
  },
  {
   "cell_type": "code",
   "execution_count": 3,
   "metadata": {},
   "outputs": [],
   "source": [
    "# A = X[:,[0]]\n",
    "# B = X[:,[1]]"
   ]
  },
  {
   "cell_type": "code",
   "execution_count": 4,
   "metadata": {},
   "outputs": [
    {
     "name": "stdout",
     "output_type": "stream",
     "text": [
      "[[0.         0.42857143 0.34493142 ... 1.26697892 1.21428571 1.44897959]\n",
      " [0.42857143 0.         0.77350284 ... 0.98126464 1.64285714 1.02040816]\n",
      " [0.34493142 0.77350284 0.         ... 1.5955169  1.11425226 1.77751756]\n",
      " ...\n",
      " [1.26697892 0.98126464 1.5955169  ... 0.         0.66159251 0.18200067]\n",
      " [1.21428571 1.64285714 1.11425226 ... 0.66159251 0.         0.66326531]\n",
      " [1.44897959 1.02040816 1.77751756 ... 0.18200067 0.66326531 0.        ]]\n"
     ]
    }
   ],
   "source": [
    "mX = np.ones((len(A),(len(B))) , dtype=float)\n",
    "for i in range(len(X)):\n",
    "    for j in range(len(X)):\n",
    "        mX[i][j] = abs(A[i] - A[j] ) + abs(B[i] - B[j] )\n",
    "#Create Initial Distance Matrix\n",
    "print(mX)"
   ]
  },
  {
   "cell_type": "code",
   "execution_count": 5,
   "metadata": {},
   "outputs": [],
   "source": [
    "#Inisiasi Cluster Awal\n",
    "clusters = []\n",
    "for i in range(len(X)):\n",
    "    clusters.append([i])\n",
    "# clusters"
   ]
  },
  {
   "cell_type": "code",
   "execution_count": 6,
   "metadata": {},
   "outputs": [],
   "source": [
    "def searchMin(mX):\n",
    "    titik = []\n",
    "    minimum = mX[0][1];\n",
    "    for i in range(len(mX)):\n",
    "        for j in range(len(mX[i])):\n",
    "            if mX[i][j] <= minimum and mX[i][j] != 0:\n",
    "                minimum = mX[i][j]\n",
    "                titik = [i,j]\n",
    "    return titik\n",
    "#Mencari titik dari nilai terkecil pada distance matriks"
   ]
  },
  {
   "cell_type": "code",
   "execution_count": 7,
   "metadata": {},
   "outputs": [],
   "source": [
    "def newCluster(clusters, mustMerge):\n",
    "    mergeClusters = []\n",
    "    mergeClusters.extend(clusters.pop(mustMerge[0]))\n",
    "    mergeClusters.extend(clusters.pop(mustMerge[1]))                           \n",
    "    clusters.append(mergeClusters)\n",
    "    return clusters\n",
    "#Menyatukan Cluster Berdasarkan Titik"
   ]
  },
  {
   "cell_type": "code",
   "execution_count": 8,
   "metadata": {},
   "outputs": [],
   "source": [
    "def getInsertVal(mX,mustMerge):\n",
    "    A = mX[mustMerge[0]]\n",
    "    A = np.delete(A, [mustMerge[0]], 0)\n",
    "    A = np.delete(A, [mustMerge[1]], 0)\n",
    "    B = mX[mustMerge[1]]\n",
    "    B = np.delete(B, [mustMerge[0]], 0)\n",
    "    B = np.delete(B, [mustMerge[1]], 0)\n",
    "    insertThis = []\n",
    "    temp = 0\n",
    "    for i in range(len(A)):\n",
    "#       Start of Single Linkage\n",
    "#         if A[i] <= B[i]:\n",
    "#             insertThis = np.insert(insertThis, i, A[i])\n",
    "#         else:\n",
    "#             insertThis = np.insert(insertThis, i, B[i])\n",
    "#         temp = i + 1\n",
    "#       End of Comlete Linkage\n",
    "\n",
    "#       Start of Comlete Linkage\n",
    "#         if A[i] >= B[i]:\n",
    "#             insertThis = np.insert(insertThis, i, A[i])\n",
    "#         else:\n",
    "#             insertThis = np.insert(insertThis, i, B[i])\n",
    "#         temp = i + 1\n",
    "#       End of Comlete Linkage\n",
    "        \n",
    "#       Start of Average Linkage\n",
    "        insertThis = np.insert(insertThis,i, (A[i]+B[i])/2)\n",
    "        temp = i + 1\n",
    "#       End of Average Linkage\n",
    "\n",
    "    insertThis = np.insert(insertThis, temp, 0)\n",
    "    return insertThis\n",
    "#Mencari nilai yang akan dimasukan ke distance Matrix"
   ]
  },
  {
   "cell_type": "code",
   "execution_count": 9,
   "metadata": {},
   "outputs": [],
   "source": [
    "def deletecM(mX): \n",
    "    mX = (np.delete(np.delete(mX, mustMerge[0], 0), mustMerge[0], 1))\n",
    "    mX = (np.delete(np.delete(mX, mustMerge[1], 0), mustMerge[1], 1))\n",
    "    return mX\n",
    "#Delete distance matriks pada titik nilai minimal"
   ]
  },
  {
   "cell_type": "code",
   "execution_count": 10,
   "metadata": {},
   "outputs": [],
   "source": [
    "def insertNewCM(mX, insertThis):\n",
    "    bMX = mX.copy()\n",
    "    bMX = np.zeros((len(mX)+1,len(mX)+1))\n",
    "    bMX[:-1,:-1] = mX\n",
    "    bMX = np.insert(bMX,len(bMX)-1, insertThis, 0)\n",
    "    bMX = np.delete(bMX, len(bMX)-1, axis = 0)\n",
    "    bMX = np.insert(bMX,len(bMX)-1, insertThis, 1)\n",
    "    bMX = np.delete(bMX, len(bMX), axis = 1)\n",
    "    return bMX\n",
    "#Nilai distance matriks baru"
   ]
  },
  {
   "cell_type": "code",
   "execution_count": 11,
   "metadata": {},
   "outputs": [],
   "source": [
    "pCluster = len(X)\n",
    "#nilai Cluster dapat dibuah disini\n",
    "jumlahCluster = 5\n",
    "while pCluster != jumlahCluster:\n",
    "    mustMerge = searchMin(mX)\n",
    "    clusters = newCluster(clusters, mustMerge)\n",
    "    insertThis = getInsertVal(mX, mustMerge)\n",
    "    mX = deletecM(mX)\n",
    "    mX = insertNewCM(mX, insertThis)\n",
    "    pCluster -= 1\n",
    "#Looping hingga cluster sebanyak JumlahCluster"
   ]
  },
  {
   "cell_type": "code",
   "execution_count": 13,
   "metadata": {},
   "outputs": [
    {
     "data": {
      "image/png": "[encoded data removed]",
      "text/plain": [
       "<Figure size 432x288 with 1 Axes>"
      ]
     },
     "metadata": {
      "needs_background": "light"
     },
     "output_type": "display_data"
    }
   ],
   "source": [
    "# Visualising the clusters\n",
    "plt.scatter(X[clusters[0],[0]], X[clusters[0],[1]], s = 100, c = 'red', label = 'Cluster 1')\n",
    "plt.scatter(X[clusters[1],[0]], X[clusters[1],[1]], s = 100, c = 'blue', label = 'Cluster 2')\n",
    "plt.scatter(X[clusters[2],[0]], X[clusters[2],[1]], s = 100, c = 'green', label = 'Cluster 3')\n",
    "plt.scatter(X[clusters[3],[0]], X[clusters[3],[1]], s = 100, c = 'cyan', label = 'Cluster 4')\n",
    "plt.scatter(X[clusters[4],[0]], X[clusters[4],[1]], s = 100, c = 'magenta', label = 'Cluster 5')\n",
    "plt.title('Clusters of customers')\n",
    "plt.xlabel('Annual Income (k$)')\n",
    "plt.ylabel('Spending Score (1-100)')\n",
    "plt.legend()\n",
    "plt.show()"
   ]
  },
  {
   "cell_type": "code",
   "execution_count": null,
   "metadata": {},
   "outputs": [],
   "source": []
  }
 ],
 "metadata": {
  "kernelspec": {
   "display_name": "Python 3",
   "language": "python",
   "name": "python3"
  },
  "language_info": {
   "codemirror_mode": {
    "name": "ipython",
    "version": 3
   },
   "file_extension": ".py",
   "mimetype": "text/x-python",
   "name": "python",
   "nbconvert_exporter": "python",
   "pygments_lexer": "ipython3",
   "version": "3.7.4"
  }
 },
 "nbformat": 4,
 "nbformat_minor": 2
}
